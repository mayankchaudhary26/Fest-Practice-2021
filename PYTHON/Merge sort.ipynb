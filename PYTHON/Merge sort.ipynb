{
 "cells": [
  {
   "cell_type": "markdown",
   "metadata": {},
   "source": [
    "**CODE:**"
   ]
  },
  {
   "cell_type": "code",
   "execution_count": 18,
   "metadata": {},
   "outputs": [
    {
     "name": "stdout",
     "output_type": "stream",
     "text": [
      "Sorted array is:  [5, 6, 7, 8, 9, 14]\n"
     ]
    }
   ],
   "source": [
    "def Merge_sort(arr):\n",
    "    if len(arr)>1:\n",
    "        mid=len(arr)//2\n",
    "        left_arr=arr[:mid]\n",
    "        right_arr=arr[mid:]\n",
    "        Merge_sort(left_arr)\n",
    "        Merge_sort(right_arr)\n",
    "        \n",
    "        i=j=k=0\n",
    "        \n",
    "        while i<len(left_arr) and j<len(right_arr):\n",
    "            if left_arr[i]<right_arr[j]:\n",
    "                arr[k]=left_arr[i]\n",
    "                i=i+1\n",
    "            else:\n",
    "                arr[k]=right_arr[j]\n",
    "                j=j+1\n",
    "            k=k+1\n",
    "            \n",
    "        while i<len(left_arr):\n",
    "            arr[k]=left_arr[i]\n",
    "            i=i+1\n",
    "            k=k+1\n",
    "        \n",
    "        while j<len(right_arr):\n",
    "            arr[k]=right_arr[j]\n",
    "            j=j+1\n",
    "            k=k+1\n",
    "    return arr\n",
    "\n",
    "print('Sorted array is: ', Merge_sort([5,9,6,7,8,14]))"
   ]
  },
  {
   "cell_type": "markdown",
   "metadata": {},
   "source": [
    "Merge sort is one of the most efficient sorting algorithms. It works on the principle of **Divide & Conquer**.\n",
    "\n",
    "It repeatedly breaks down a list into several sublists until each sublist consists of a single element and merging those sublists in a manner that results into a sorted list.\n",
    "\n",
    "- It is a **recursive algorithm.**\n",
    "\n",
    "- It is a **stable** algoritm.\n",
    "\n",
    "- In- place sorting - No\n",
    "\n",
    "- Auxillary space - **O(n)**\n",
    "\n",
    "- **Time complexity** in all cases - **O(nLogn)**         (better than bubble,selection & insertion)\n",
    "\n",
    "USE: This is the best sorting algorithm for **sorting linked lists**.\n",
    "\n",
    "DRAWBACKS: Merge sort requires additional memory space of O(n) for temporary array and is slow compared to other algorithms for smaller arrays. It goes through the entire process even when the array is sorted.\n",
    "\n"
   ]
  },
  {
   "cell_type": "code",
   "execution_count": null,
   "metadata": {},
   "outputs": [],
   "source": []
  }
 ],
 "metadata": {
  "kernelspec": {
   "display_name": "Python 3",
   "language": "python",
   "name": "python3"
  }
 },
 "nbformat": 4,
 "nbformat_minor": 4
}
